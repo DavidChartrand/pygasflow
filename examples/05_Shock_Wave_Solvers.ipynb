{
 "cells": [
  {
   "cell_type": "markdown",
   "metadata": {},
   "source": [
    "# Shock wave solvers"
   ]
  },
  {
   "cell_type": "markdown",
   "metadata": {},
   "source": [
    "If you are looking for a rapid way to compute all the ratios across the shock wave, you have come to the right place.\n",
    "\n",
    "Two solvers are implemented:\n",
    "1. `shockwave_solver`: use this to solve for normal or oblique shock waves.\n",
    "2. `conical_shockwave_solver`: use this to solve for conical shock wave.\n",
    "\n",
    "In the following, a few examples are presented to show how to use them and to understand some of the limitations."
   ]
  },
  {
   "cell_type": "code",
   "execution_count": 1,
   "metadata": {},
   "outputs": [],
   "source": [
    "from pygasflow import (\n",
    "    shockwave_solver,\n",
    "    conical_shockwave_solver\n",
    ")"
   ]
  },
  {
   "cell_type": "markdown",
   "metadata": {},
   "source": [
    "## shockwave_solver\n",
    "\n",
    "Let's look at the documentation for this function to see how it works:"
   ]
  },
  {
   "cell_type": "code",
   "execution_count": 2,
   "metadata": {},
   "outputs": [
    {
     "name": "stdout",
     "output_type": "stream",
     "text": [
      "Help on function shockwave_solver in module pygasflow.solvers.shockwave:\n",
      "\n",
      "shockwave_solver(p1_name, p1_value, p2_name='beta', p2_value=90, gamma=1.4, flag='weak')\n",
      "    Try to compute all the ratios, angles and mach numbers across the shock wave.\n",
      "    \n",
      "    Remember: a normal shock wave has a wave angle beta=90 deg.\n",
      "    \n",
      "    Parameters\n",
      "    ----------\n",
      "    p1_name : string\n",
      "        Name of the first parameter given in input. Can be either one of:\n",
      "    \n",
      "        * ``'pressure'``: Pressure Ratio P2/P1\n",
      "        * ``'temperature'``: Temperature Ratio T2/T1\n",
      "        * ``'density'``: Density Ratio rho2/rho1\n",
      "        * ``'total_pressure'``: Total Pressure Ratio P02/P01\n",
      "        * ``'m1'``: Mach upstream of the shock wave\n",
      "        * ``'mn1'``: Normal Mach upstream of the shock wave\n",
      "        * ``'mn2'``: Normal Mach downstream of the shock wave\n",
      "        * ``'beta'``: The shock wave angle [in degrees]. It can only be used\n",
      "          if ``p2_name='theta'``.\n",
      "        * ``'theta'``: The deflection angle [in degrees]. It can only be\n",
      "          used if ``p2_name='beta'``.\n",
      "    \n",
      "        If the parameter is a ratio, it is in the form downstream/upstream:\n",
      "    \n",
      "    p1_value : float\n",
      "        Actual value of the parameter.\n",
      "    p2_name : string, optional\n",
      "        Name of the second parameter. It could either be:\n",
      "    \n",
      "        * ``'beta'``: Shock wave angle.\n",
      "        * ``'theta'``: Flow deflection angle.\n",
      "        * ``'mn1'``: Input Normal Mach number.\n",
      "    \n",
      "        Default to ``'beta'``.\n",
      "    p2_value : float, optional\n",
      "        Value of the angle in degrees.\n",
      "        Default to 90 degrees (normal shock wave).\n",
      "    gamma : float, optional\n",
      "        Specific heats ratio. Default to 1.4. Must be > 1.\n",
      "    flag : string, optional\n",
      "        Chose what solution to compute if the angle 'theta' is provided.\n",
      "        Can be either ``'weak'`` or ``'strong'``. Default to ``'weak'``. \n",
      "    \n",
      "    Returns\n",
      "    -------\n",
      "    M1 : float\n",
      "        Mach number upstream of the shock wave.\n",
      "    Mn1 : float\n",
      "        Normal Mach number upstream of the shock wave.\n",
      "    M2 : float\n",
      "        Mach number downstream of the shock wave.\n",
      "    Mn2 : float\n",
      "        Normal Mach number downstream of the shock wave.\n",
      "    beta : float\n",
      "        Shock wave angle in degrees.\n",
      "    theta : float\n",
      "        Flow deflection angle in degrees.\n",
      "    pr : float\n",
      "        Pressure ratio across the shock wave.\n",
      "    dr : float\n",
      "        Density ratio across the shock wave.\n",
      "    tr : float\n",
      "        Temperature ratio across the shock wave.\n",
      "    tpr : float\n",
      "        Total Pressure ratio across the shock wave.\n",
      "\n"
     ]
    }
   ],
   "source": [
    "help(shockwave_solver)"
   ]
  },
  {
   "cell_type": "markdown",
   "metadata": {},
   "source": [
    "As we can see, it is really quite simple to use it. Just insert the name of the known parameter, its value, the name of the angle and its value, the specific heats ratio and you are good to go.\n",
    "\n",
    "Let's first create a simple function to print the results:"
   ]
  },
  {
   "cell_type": "code",
   "execution_count": 3,
   "metadata": {},
   "outputs": [],
   "source": [
    "def print_oblique_shockwave(M1, MN1, M2, MN2, beta, theta, pr, dr, tr, tpr):\n",
    "    print(\"M1 \\t\\t {}\".format(M1))\n",
    "    print(\"Mn1 \\t\\t {}\".format(MN1))\n",
    "    print(\"M2 \\t\\t {}\".format(M2))\n",
    "    print(\"Mn2 \\t\\t {}\".format(MN2))\n",
    "    print(\"beta \\t\\t {}\".format(beta))\n",
    "    print(\"theta \\t\\t {}\".format(theta))\n",
    "    print(\"p2/p1 \\t\\t {}\".format(pr))\n",
    "    print(\"rho2/rho1 \\t {}\".format(dr))\n",
    "    print(\"t2/t1 \\t\\t {}\".format(tr))\n",
    "    print(\"p02/p01 \\t {}\".format(tpr))\n",
    "    print()"
   ]
  },
  {
   "cell_type": "markdown",
   "metadata": {},
   "source": [
    "### Normal Shock Wave\n",
    "\n",
    "By default, this function can be used to solve **normal shock wave** on air (specific heats ratio $\\gamma=1.4$ and shock wave angle $\\beta=90$):"
   ]
  },
  {
   "cell_type": "code",
   "execution_count": 4,
   "metadata": {},
   "outputs": [
    {
     "name": "stdout",
     "output_type": "stream",
     "text": [
      "M1 \t\t 4.0\n",
      "Mn1 \t\t 4.0\n",
      "M2 \t\t 0.43495883620084\n",
      "Mn2 \t\t 0.43495883620084\n",
      "beta \t\t 90.0\n",
      "theta \t\t 1.2529838033097996e-14\n",
      "p2/p1 \t\t 18.5\n",
      "rho2/rho1 \t 4.571428571428572\n",
      "t2/t1 \t\t 4.046874999999999\n",
      "p02/p01 \t 0.13875622089168838\n",
      "\n"
     ]
    }
   ],
   "source": [
    "result = shockwave_solver(\"m1\", 4)\n",
    "print_oblique_shockwave(*result)"
   ]
  },
  {
   "cell_type": "markdown",
   "metadata": {},
   "source": [
    "Because this function is designed to solve also oblique shock waves, we have some parameters that we can discard:\n",
    "1. Mn1, the normal Mach number upstream of the shock wave, which is obviously equal to M1.\n",
    "2. Mn2, the normal Mach number downstream of the shock wave, which is obviously equal to M2.\n",
    "3. beta, the shock wave angle, obviously $90°$ since we are solving a normal shock wave.\n",
    "4. theta, the deflection angle. We notice a very small value. Indeed, in this case it should be 0, but numerical errors are preventing this result. Anyway, since we are solving a normal shock wave, we do not need to worry about this angle."
   ]
  },
  {
   "cell_type": "markdown",
   "metadata": {},
   "source": [
    "Let's look at the same example, but inserting different parameters. We expect the very same results, and indeed we get them."
   ]
  },
  {
   "cell_type": "code",
   "execution_count": 5,
   "metadata": {},
   "outputs": [
    {
     "name": "stdout",
     "output_type": "stream",
     "text": [
      "M1 \t\t 4.0\n",
      "Mn1 \t\t 4.0\n",
      "M2 \t\t 0.43495883620084\n",
      "Mn2 \t\t 0.43495883620084\n",
      "beta \t\t 90\n",
      "theta \t\t 1.2529838033097996e-14\n",
      "p2/p1 \t\t 18.5\n",
      "rho2/rho1 \t 4.571428571428572\n",
      "t2/t1 \t\t 4.046874999999999\n",
      "p02/p01 \t 0.13875622089168838\n",
      "\n",
      "M1 \t\t 4.0\n",
      "Mn1 \t\t 4.0\n",
      "M2 \t\t 0.43495883620084\n",
      "Mn2 \t\t 0.43495883620084\n",
      "beta \t\t 90\n",
      "theta \t\t 1.2529838033097996e-14\n",
      "p2/p1 \t\t 18.5\n",
      "rho2/rho1 \t 4.571428571428572\n",
      "t2/t1 \t\t 4.046874999999999\n",
      "p02/p01 \t 0.13875622089168838\n",
      "\n",
      "M1 \t\t 4.0\n",
      "Mn1 \t\t 4.0\n",
      "M2 \t\t 0.43495883620084\n",
      "Mn2 \t\t 0.43495883620084\n",
      "beta \t\t 90\n",
      "theta \t\t 1.2529838033097996e-14\n",
      "p2/p1 \t\t 18.5\n",
      "rho2/rho1 \t 4.571428571428572\n",
      "t2/t1 \t\t 4.046874999999999\n",
      "p02/p01 \t 0.13875622089168838\n",
      "\n",
      "M1 \t\t 4.0\n",
      "Mn1 \t\t 4.0\n",
      "M2 \t\t 0.43495883620084\n",
      "Mn2 \t\t 0.43495883620084\n",
      "beta \t\t 90\n",
      "theta \t\t 1.2529838033097996e-14\n",
      "p2/p1 \t\t 18.5\n",
      "rho2/rho1 \t 4.571428571428572\n",
      "t2/t1 \t\t 4.046874999999999\n",
      "p02/p01 \t 0.13875622089168838\n",
      "\n"
     ]
    }
   ],
   "source": [
    "r1 = shockwave_solver(\"pressure\", 18.5)\n",
    "r2 = shockwave_solver(\"density\", 4.571428571428572)\n",
    "r3 = shockwave_solver(\"temperature\", 4.046874999999999)\n",
    "r4 = shockwave_solver(\"mn2\", 0.43495883620084)\n",
    "\n",
    "print_oblique_shockwave(*r1)\n",
    "print_oblique_shockwave(*r2)\n",
    "print_oblique_shockwave(*r3)\n",
    "print_oblique_shockwave(*r4)"
   ]
  },
  {
   "cell_type": "markdown",
   "metadata": {},
   "source": [
    "What if I want to solve a normal shock wave on a gas different than air? Obviously I need to change the specific heats ratio:"
   ]
  },
  {
   "cell_type": "code",
   "execution_count": 6,
   "metadata": {},
   "outputs": [
    {
     "name": "stdout",
     "output_type": "stream",
     "text": [
      "M1 \t\t 4.0\n",
      "Mn1 \t\t 4.0\n",
      "M2 \t\t 0.3689521031926255\n",
      "Mn2 \t\t 0.3689521031926255\n",
      "beta \t\t 90.0\n",
      "theta \t\t 2.024050759192753e-14\n",
      "p2/p1 \t\t 17.36363636363636\n",
      "rho2/rho1 \t 6.769230769230771\n",
      "t2/t1 \t\t 2.5650826446280983\n",
      "p02/p01 \t 0.06095825251291948\n",
      "\n"
     ]
    }
   ],
   "source": [
    "result = shockwave_solver(\"m1\", 4, gamma=1.2)\n",
    "print_oblique_shockwave(*result)"
   ]
  },
  {
   "cell_type": "markdown",
   "metadata": {},
   "source": [
    "### Oblique Shock Wave\n",
    "\n",
    "Let's now consider an **oblique shock wave**. Let's start with air, upstream Mach number $M_{1} = 4$ and a deflection angle $\\theta = 20°$."
   ]
  },
  {
   "cell_type": "code",
   "execution_count": 7,
   "metadata": {},
   "outputs": [
    {
     "name": "stdout",
     "output_type": "stream",
     "text": [
      "M1 \t\t 4.0\n",
      "Mn1 \t\t 2.147072259523833\n",
      "M2 \t\t 2.5686168890322807\n",
      "Mn2 \t\t 0.5543701693902555\n",
      "beta \t\t 32.46389685027039\n",
      "theta \t\t 20.0\n",
      "p2/p1 \t\t 5.211572502219574\n",
      "rho2/rho1 \t 2.8782256018884964\n",
      "t2/t1 \t\t 1.8106893701453053\n",
      "p02/p01 \t 0.6524015014542756\n",
      "\n"
     ]
    }
   ],
   "source": [
    "result = shockwave_solver(\"m1\", 4, 'theta', 20)\n",
    "print_oblique_shockwave(*result)"
   ]
  },
  {
   "cell_type": "markdown",
   "metadata": {},
   "source": [
    "As we have seen from the documentation, if the deflection angle $\\theta$ is provided, by default the function will solve for the _**weak shock solution**_. If we want to solve for the _**strong shock solution**_, we must change the `flag` argument. But in doing so, we also need to specify the specific heats ratio."
   ]
  },
  {
   "cell_type": "code",
   "execution_count": 8,
   "metadata": {},
   "outputs": [
    {
     "name": "stdout",
     "output_type": "stream",
     "text": [
      "M1 \t\t 4.0\n",
      "Mn1 \t\t 3.977010652739413\n",
      "M2 \t\t 0.48523272499938425\n",
      "Mn2 \t\t 0.43558154682352673\n",
      "beta \t\t 83.85418932598304\n",
      "theta \t\t 20.0\n",
      "p2/p1 \t\t 18.286049354003236\n",
      "rho2/rho1 \t 4.5588434129476605\n",
      "t2/t1 \t\t 4.011115912002739\n",
      "p02/p01 \t 0.14147889026890678\n",
      "\n"
     ]
    }
   ],
   "source": [
    "result = shockwave_solver(\"m1\", 4, 'theta', 20, gamma=1.4, flag='strong')\n",
    "print_oblique_shockwave(*result)"
   ]
  },
  {
   "cell_type": "markdown",
   "metadata": {},
   "source": [
    "Note that the solver is able to detect detachment. Let's say we provide a flow deflection angle greater that the maximum allowed for the provided upstream Mach number (see [Oblique Shock Diagram](04_Oblique_Shock_Diagram.ipynb)):"
   ]
  },
  {
   "cell_type": "code",
   "execution_count": 9,
   "metadata": {},
   "outputs": [
    {
     "ename": "ValueError",
     "evalue": "Detachment detected: can't solve the flow when theta > theta_max.\nM1 = [2.]\ntheta_max(M1) = 22.97353176093536\ntheta = [30.]\n",
     "output_type": "error",
     "traceback": [
      "\u001b[0;31m---------------------------------------------------------------------------\u001b[0m",
      "\u001b[0;31mValueError\u001b[0m                                Traceback (most recent call last)",
      "Input \u001b[0;32mIn [9]\u001b[0m, in \u001b[0;36m<module>\u001b[0;34m\u001b[0m\n\u001b[0;32m----> 1\u001b[0m result \u001b[38;5;241m=\u001b[39m \u001b[43mshockwave_solver\u001b[49m\u001b[43m(\u001b[49m\u001b[38;5;124;43m\"\u001b[39;49m\u001b[38;5;124;43mm1\u001b[39;49m\u001b[38;5;124;43m\"\u001b[39;49m\u001b[43m,\u001b[49m\u001b[43m \u001b[49m\u001b[38;5;241;43m2\u001b[39;49m\u001b[43m,\u001b[49m\u001b[43m \u001b[49m\u001b[38;5;124;43m'\u001b[39;49m\u001b[38;5;124;43mtheta\u001b[39;49m\u001b[38;5;124;43m'\u001b[39;49m\u001b[43m,\u001b[49m\u001b[43m \u001b[49m\u001b[38;5;241;43m30\u001b[39;49m\u001b[43m)\u001b[49m\n\u001b[1;32m      2\u001b[0m print_oblique_shockwave(\u001b[38;5;241m*\u001b[39mresult)\n",
      "File \u001b[0;32m~/Documents/Development/pygasflow/pygasflow/utils/decorators.py:206\u001b[0m, in \u001b[0;36mas_array.<locals>.decorator.<locals>.wrapper_function\u001b[0;34m(*args, **kwargs)\u001b[0m\n\u001b[1;32m    204\u001b[0m     \u001b[38;5;28;01mif\u001b[39;00m i \u001b[38;5;241m<\u001b[39m \u001b[38;5;28mlen\u001b[39m(args):\n\u001b[1;32m    205\u001b[0m         args[i] \u001b[38;5;241m=\u001b[39m convert_to_ndarray(args[i])\n\u001b[0;32m--> 206\u001b[0m \u001b[38;5;28;01mreturn\u001b[39;00m \u001b[43moriginal_function\u001b[49m\u001b[43m(\u001b[49m\u001b[38;5;241;43m*\u001b[39;49m\u001b[43margs\u001b[49m\u001b[43m,\u001b[49m\u001b[43m \u001b[49m\u001b[38;5;241;43m*\u001b[39;49m\u001b[38;5;241;43m*\u001b[39;49m\u001b[43mkwargs\u001b[49m\u001b[43m)\u001b[49m\n",
      "File \u001b[0;32m~/Documents/Development/pygasflow/pygasflow/utils/decorators.py:121\u001b[0m, in \u001b[0;36mcheck_shockwave.<locals>.decorator.<locals>.wrapper_function\u001b[0;34m(*args, **kwargs)\u001b[0m\n\u001b[1;32m    118\u001b[0m \u001b[38;5;28;01mif\u001b[39;00m \u001b[38;5;124m\"\u001b[39m\u001b[38;5;124mflag\u001b[39m\u001b[38;5;124m\"\u001b[39m \u001b[38;5;129;01min\u001b[39;00m all_param\u001b[38;5;241m.\u001b[39mkeys() \u001b[38;5;129;01mand\u001b[39;00m \u001b[38;5;28mlen\u001b[39m(args) \u001b[38;5;241m==\u001b[39m \u001b[38;5;28mlen\u001b[39m(all_param\u001b[38;5;241m.\u001b[39mkeys()):\n\u001b[1;32m    119\u001b[0m     args[\u001b[38;5;241m-\u001b[39m\u001b[38;5;241m1\u001b[39m] \u001b[38;5;241m=\u001b[39m _check_flag_shockwave(all_param[\u001b[38;5;124m\"\u001b[39m\u001b[38;5;124mflag\u001b[39m\u001b[38;5;124m\"\u001b[39m])\n\u001b[0;32m--> 121\u001b[0m res \u001b[38;5;241m=\u001b[39m \u001b[43moriginal_function\u001b[49m\u001b[43m(\u001b[49m\u001b[38;5;241;43m*\u001b[39;49m\u001b[43margs\u001b[49m\u001b[43m,\u001b[49m\u001b[43m \u001b[49m\u001b[38;5;241;43m*\u001b[39;49m\u001b[38;5;241;43m*\u001b[39;49m\u001b[43mkwargs\u001b[49m\u001b[43m)\u001b[49m\n\u001b[1;32m    122\u001b[0m \u001b[38;5;28;01mreturn\u001b[39;00m ret_correct_vals(res)\n",
      "File \u001b[0;32m~/Documents/Development/pygasflow/pygasflow/solvers/shockwave.py:163\u001b[0m, in \u001b[0;36mshockwave_solver\u001b[0;34m(p1_name, p1_value, p2_name, p2_value, gamma, flag)\u001b[0m\n\u001b[1;32m    160\u001b[0m     M2 \u001b[38;5;241m=\u001b[39m MN2 \u001b[38;5;241m/\u001b[39m np\u001b[38;5;241m.\u001b[39msin(np\u001b[38;5;241m.\u001b[39mdeg2rad(beta \u001b[38;5;241m-\u001b[39m theta))\n\u001b[1;32m    161\u001b[0m \u001b[38;5;28;01melif\u001b[39;00m M1 \u001b[38;5;129;01mis\u001b[39;00m \u001b[38;5;129;01mnot\u001b[39;00m \u001b[38;5;28;01mNone\u001b[39;00m:\n\u001b[1;32m    162\u001b[0m     \u001b[38;5;66;03m# at this point, either beta or theta is set, not both!\u001b[39;00m\n\u001b[0;32m--> 163\u001b[0m     MN1 \u001b[38;5;241m=\u001b[39m \u001b[43mnormal_mach_upstream\u001b[49m\u001b[38;5;241;43m.\u001b[39;49m\u001b[43m__no_check\u001b[49m\u001b[43m(\u001b[49m\u001b[43mM1\u001b[49m\u001b[43m,\u001b[49m\u001b[43m \u001b[49m\u001b[43mbeta\u001b[49m\u001b[43m,\u001b[49m\u001b[43m \u001b[49m\u001b[43mtheta\u001b[49m\u001b[43m,\u001b[49m\u001b[43m \u001b[49m\u001b[43mgamma\u001b[49m\u001b[43m,\u001b[49m\u001b[43m \u001b[49m\u001b[43mflag\u001b[49m\u001b[43m)\u001b[49m\n\u001b[1;32m    164\u001b[0m     \u001b[38;5;66;03m# compute the different ratios\u001b[39;00m\n\u001b[1;32m    165\u001b[0m     pr, dr, tr, tpr, MN2 \u001b[38;5;241m=\u001b[39m get_ratios_from_normal_mach_upstream\u001b[38;5;241m.\u001b[39m__no_check(MN1, gamma)\n",
      "File \u001b[0;32m~/Documents/Development/pygasflow/pygasflow/utils/decorators.py:125\u001b[0m, in \u001b[0;36mcheck_shockwave.<locals>.decorator.<locals>.no_check_function\u001b[0;34m(*args, **kwargs)\u001b[0m\n\u001b[1;32m    124\u001b[0m \u001b[38;5;28;01mdef\u001b[39;00m \u001b[38;5;21mno_check_function\u001b[39m(\u001b[38;5;241m*\u001b[39margs, \u001b[38;5;241m*\u001b[39m\u001b[38;5;241m*\u001b[39mkwargs):\n\u001b[0;32m--> 125\u001b[0m     res \u001b[38;5;241m=\u001b[39m \u001b[43moriginal_function\u001b[49m\u001b[43m(\u001b[49m\u001b[38;5;241;43m*\u001b[39;49m\u001b[43margs\u001b[49m\u001b[43m,\u001b[49m\u001b[43m \u001b[49m\u001b[38;5;241;43m*\u001b[39;49m\u001b[38;5;241;43m*\u001b[39;49m\u001b[43mkwargs\u001b[49m\u001b[43m)\u001b[49m\n\u001b[1;32m    126\u001b[0m     \u001b[38;5;28;01mreturn\u001b[39;00m ret_correct_vals(res)\n",
      "File \u001b[0;32m~/Documents/Development/pygasflow/pygasflow/shockwave.py:497\u001b[0m, in \u001b[0;36mnormal_mach_upstream\u001b[0;34m(M1, beta, theta, gamma, flag)\u001b[0m\n\u001b[1;32m    495\u001b[0m theta_max \u001b[38;5;241m=\u001b[39m max_theta_from_mach(M1, gamma)\n\u001b[1;32m    496\u001b[0m \u001b[38;5;28;01mif\u001b[39;00m np\u001b[38;5;241m.\u001b[39many(theta \u001b[38;5;241m>\u001b[39m theta_max):\n\u001b[0;32m--> 497\u001b[0m     \u001b[38;5;28;01mraise\u001b[39;00m \u001b[38;5;167;01mValueError\u001b[39;00m(\u001b[38;5;124m\"\u001b[39m\u001b[38;5;124mDetachment detected: can\u001b[39m\u001b[38;5;124m'\u001b[39m\u001b[38;5;124mt solve the flow when theta > theta_max.\u001b[39m\u001b[38;5;130;01m\\n\u001b[39;00m\u001b[38;5;124m\"\u001b[39m \u001b[38;5;241m+\u001b[39m\n\u001b[1;32m    498\u001b[0m     \u001b[38;5;124m\"\u001b[39m\u001b[38;5;124mM1 = \u001b[39m\u001b[38;5;132;01m{}\u001b[39;00m\u001b[38;5;130;01m\\n\u001b[39;00m\u001b[38;5;124m\"\u001b[39m\u001b[38;5;241m.\u001b[39mformat(M1) \u001b[38;5;241m+\u001b[39m \n\u001b[1;32m    499\u001b[0m     \u001b[38;5;124m\"\u001b[39m\u001b[38;5;124mtheta_max(M1) = \u001b[39m\u001b[38;5;132;01m{}\u001b[39;00m\u001b[38;5;130;01m\\n\u001b[39;00m\u001b[38;5;124m\"\u001b[39m\u001b[38;5;241m.\u001b[39mformat(theta_max) \u001b[38;5;241m+\u001b[39m\n\u001b[1;32m    500\u001b[0m     \u001b[38;5;124m\"\u001b[39m\u001b[38;5;124mtheta = \u001b[39m\u001b[38;5;132;01m{}\u001b[39;00m\u001b[38;5;130;01m\\n\u001b[39;00m\u001b[38;5;124m\"\u001b[39m\u001b[38;5;241m.\u001b[39mformat(theta))\n\u001b[1;32m    501\u001b[0m beta \u001b[38;5;241m=\u001b[39m beta_from_mach_theta(M1, theta)\n\u001b[1;32m    502\u001b[0m MN1 \u001b[38;5;241m=\u001b[39m \u001b[38;5;28mdict\u001b[39m()\n",
      "\u001b[0;31mValueError\u001b[0m: Detachment detected: can't solve the flow when theta > theta_max.\nM1 = [2.]\ntheta_max(M1) = 22.97353176093536\ntheta = [30.]\n"
     ]
    }
   ],
   "source": [
    "result = shockwave_solver(\"m1\", 2, 'theta', 30)\n",
    "print_oblique_shockwave(*result)"
   ]
  },
  {
   "cell_type": "code",
   "execution_count": 10,
   "metadata": {},
   "outputs": [
    {
     "name": "stdout",
     "output_type": "stream",
     "text": [
      "M1 \t\t 1.8400645259024768\n",
      "Mn1 \t\t 1.664726146515799\n",
      "M2 \t\t 0.9225790066302748\n",
      "Mn2 \t\t 0.64990193322869\n",
      "beta \t\t 64.78435329607117\n",
      "theta \t\t 20.0\n",
      "p2/p1 \t\t 3.066532000042231\n",
      "rho2/rho1 \t 2.1396485447978377\n",
      "t2/t1 \t\t 1.433194254027345\n",
      "p02/p01 \t 0.8701212937216544\n",
      "\n"
     ]
    }
   ],
   "source": [
    "print_oblique_shockwave(*shockwave_solver(\"m1\", 1.8400645259024768, \"theta\", 20))"
   ]
  },
  {
   "cell_type": "markdown",
   "metadata": {},
   "source": [
    "Again, we can insert different parameter to solve for the shock. For example, let's say I know the pressure ratio across the shock, the deflection angle, and I want to solve for the _**weak shock solution**_. I can do:"
   ]
  },
  {
   "cell_type": "code",
   "execution_count": 11,
   "metadata": {},
   "outputs": [
    {
     "name": "stdout",
     "output_type": "stream",
     "text": [
      "M1 \t\t nan\n",
      "Mn1 \t\t 2.147072259523833\n",
      "M2 \t\t nan\n",
      "Mn2 \t\t 0.5543701693902555\n",
      "beta \t\t nan\n",
      "theta \t\t 20.0\n",
      "p2/p1 \t\t 5.211572502219574\n",
      "rho2/rho1 \t 2.8782256018884964\n",
      "t2/t1 \t\t 1.8106893701453053\n",
      "p02/p01 \t 0.6524015014542756\n",
      "\n"
     ]
    },
    {
     "name": "stderr",
     "output_type": "stream",
     "text": [
      "/home/davide/Documents/Development/pygasflow/pygasflow/solvers/shockwave.py:194: UserWarning: Undetermined case. Setting M1 = beta = M2 = NaN\n",
      "  warnings.warn(\"Undetermined case. Setting M1 = beta = M2 = NaN\")\n"
     ]
    }
   ],
   "source": [
    "result = shockwave_solver(\"pressure\", 5.211572502219574, 'theta', 20)\n",
    "print_oblique_shockwave(*result)"
   ]
  },
  {
   "cell_type": "markdown",
   "metadata": {},
   "source": [
    "Comparing with the previous results, we see that the ratios are correct, the normal Mach numbers are correct, but the shock wave angle $\\beta$ and thus the Mach numbers upstream and downstream of the shock are not determined.\n",
    "This is to be expected: given a ratio, we can compute only the normal Mach number across the shock wave corresponsing to the weak solution, but we are unable to uniquely determine the shock wave angle $\\beta$ and the Mach number."
   ]
  },
  {
   "cell_type": "markdown",
   "metadata": {},
   "source": [
    "Therefore, **if we would like to compute the _strong shock solution_ giving a ratio and the deflection angle $\\theta$, we will get the wrong results**:"
   ]
  },
  {
   "cell_type": "code",
   "execution_count": 12,
   "metadata": {},
   "outputs": [
    {
     "name": "stdout",
     "output_type": "stream",
     "text": [
      "M1 \t\t nan\n",
      "Mn1 \t\t 2.147072259523833\n",
      "M2 \t\t nan\n",
      "Mn2 \t\t 0.5543701693902555\n",
      "beta \t\t nan\n",
      "theta \t\t 20.0\n",
      "p2/p1 \t\t 5.211572502219574\n",
      "rho2/rho1 \t 2.8782256018884964\n",
      "t2/t1 \t\t 1.8106893701453053\n",
      "p02/p01 \t 0.6524015014542756\n",
      "\n"
     ]
    }
   ],
   "source": [
    "result = shockwave_solver(\"pressure\", 5.211572502219574, 'theta', 20, gamma=1.4, flag='strong')\n",
    "print_oblique_shockwave(*result)"
   ]
  },
  {
   "cell_type": "markdown",
   "metadata": {},
   "source": [
    "Even by specify the `flag='strong'`, at the moment of writing this tutorial, it is not possible to compute the Normal Mach number corresponding to strong solution of the input ration, and it is not possible to uniquely determine the shock wave angle $\\beta$ and thus computing the correct results."
   ]
  },
  {
   "cell_type": "markdown",
   "metadata": {},
   "source": [
    "We can solve a shock wave by knowing both the shock wave angle $\\beta$ and the deflection angle $\\theta$. Following the previus example, by chosing the shock wave angle corresponding to the weak solution we get:"
   ]
  },
  {
   "cell_type": "code",
   "execution_count": 14,
   "metadata": {},
   "outputs": [
    {
     "name": "stdout",
     "output_type": "stream",
     "text": [
      "M1 \t\t 4.000000000000003\n",
      "Mn1 \t\t 2.1470722595238345\n",
      "M2 \t\t 2.5686168890322807\n",
      "Mn2 \t\t 0.5543701693902553\n",
      "beta \t\t 32.46389685027039\n",
      "theta \t\t 20.000000000000004\n",
      "p2/p1 \t\t 5.211572502219582\n",
      "rho2/rho1 \t 2.8782256018884977\n",
      "t2/t1 \t\t 1.8106893701453068\n",
      "p02/p01 \t 0.6524015014542744\n",
      "\n",
      "\n",
      "M1 \t\t 4.000000000000003\n",
      "Mn1 \t\t 2.1470722595238345\n",
      "M2 \t\t 2.5686168890322807\n",
      "Mn2 \t\t 0.5543701693902553\n",
      "beta \t\t 32.46389685027039\n",
      "theta \t\t 20.000000000000004\n",
      "p2/p1 \t\t 5.211572502219582\n",
      "rho2/rho1 \t 2.8782256018884977\n",
      "t2/t1 \t\t 1.8106893701453068\n",
      "p02/p01 \t 0.6524015014542744\n",
      "\n"
     ]
    }
   ],
   "source": [
    "r1 = shockwave_solver(\"beta\", 32.46389685027039, 'theta', 20)\n",
    "r2 = shockwave_solver('theta', 20, \"beta\", 32.46389685027039)\n",
    "print_oblique_shockwave(*r1)\n",
    "print()\n",
    "print_oblique_shockwave(*r2)"
   ]
  },
  {
   "cell_type": "markdown",
   "metadata": {},
   "source": [
    "Note that we do not need to specify the `flag` arguments, since for each $(\\beta, \\theta)$ corresponds only one Mach number.\n",
    "\n",
    "By chosing the shock wave angle corresponding to the strong solution we get:"
   ]
  },
  {
   "cell_type": "code",
   "execution_count": 15,
   "metadata": {},
   "outputs": [
    {
     "name": "stdout",
     "output_type": "stream",
     "text": [
      "M1 \t\t 3.9999999999999862\n",
      "Mn1 \t\t 3.9770106527393994\n",
      "M2 \t\t 0.48523272499938463\n",
      "Mn2 \t\t 0.4355815468235271\n",
      "beta \t\t 83.85418932598304\n",
      "theta \t\t 19.99999999999999\n",
      "p2/p1 \t\t 18.286049354003108\n",
      "rho2/rho1 \t 4.558843412947653\n",
      "t2/t1 \t\t 4.011115912002717\n",
      "p02/p01 \t 0.14147889026890847\n",
      "\n",
      "M1 \t\t 3.9999999999999862\n",
      "Mn1 \t\t 3.9770106527393994\n",
      "M2 \t\t 0.48523272499938463\n",
      "Mn2 \t\t 0.4355815468235271\n",
      "beta \t\t 83.85418932598304\n",
      "theta \t\t 19.99999999999999\n",
      "p2/p1 \t\t 18.286049354003108\n",
      "rho2/rho1 \t 4.558843412947653\n",
      "t2/t1 \t\t 4.011115912002717\n",
      "p02/p01 \t 0.14147889026890847\n",
      "\n"
     ]
    }
   ],
   "source": [
    "r1 = shockwave_solver(\"beta\", 83.85418932598304, 'theta', 20)\n",
    "r2 = shockwave_solver('theta', 20, \"beta\", 83.85418932598304)\n",
    "print_oblique_shockwave(*r1)\n",
    "print_oblique_shockwave(*r2)"
   ]
  },
  {
   "cell_type": "markdown",
   "metadata": {},
   "source": [
    "Finally, the solver should be able to determine if a solution doesn't exist for the current choice of parameters. For example (see [Oblique Shock Diagram](04_Oblique_Shock_Diagram.ipynb)):"
   ]
  },
  {
   "cell_type": "code",
   "execution_count": 16,
   "metadata": {},
   "outputs": [
    {
     "ename": "ValueError",
     "evalue": "There is no solution for the current choice of parameters. Please check the Oblique Shock diagram with the following parameters:\nbeta = [88.]\ntheta = [20.]\n",
     "output_type": "error",
     "traceback": [
      "\u001b[0;31m---------------------------------------------------------------------------\u001b[0m",
      "\u001b[0;31mValueError\u001b[0m                                Traceback (most recent call last)",
      "Input \u001b[0;32mIn [16]\u001b[0m, in \u001b[0;36m<module>\u001b[0;34m\u001b[0m\n\u001b[0;32m----> 1\u001b[0m print_oblique_shockwave(\u001b[38;5;241m*\u001b[39m\u001b[43mshockwave_solver\u001b[49m\u001b[43m(\u001b[49m\u001b[38;5;124;43m\"\u001b[39;49m\u001b[38;5;124;43mbeta\u001b[39;49m\u001b[38;5;124;43m\"\u001b[39;49m\u001b[43m,\u001b[49m\u001b[43m \u001b[49m\u001b[38;5;241;43m88\u001b[39;49m\u001b[43m,\u001b[49m\u001b[43m \u001b[49m\u001b[38;5;124;43m\"\u001b[39;49m\u001b[38;5;124;43mtheta\u001b[39;49m\u001b[38;5;124;43m\"\u001b[39;49m\u001b[43m,\u001b[49m\u001b[43m \u001b[49m\u001b[38;5;241;43m20\u001b[39;49m\u001b[43m)\u001b[49m)\n",
      "File \u001b[0;32m~/Documents/Development/pygasflow/pygasflow/utils/decorators.py:206\u001b[0m, in \u001b[0;36mas_array.<locals>.decorator.<locals>.wrapper_function\u001b[0;34m(*args, **kwargs)\u001b[0m\n\u001b[1;32m    204\u001b[0m     \u001b[38;5;28;01mif\u001b[39;00m i \u001b[38;5;241m<\u001b[39m \u001b[38;5;28mlen\u001b[39m(args):\n\u001b[1;32m    205\u001b[0m         args[i] \u001b[38;5;241m=\u001b[39m convert_to_ndarray(args[i])\n\u001b[0;32m--> 206\u001b[0m \u001b[38;5;28;01mreturn\u001b[39;00m \u001b[43moriginal_function\u001b[49m\u001b[43m(\u001b[49m\u001b[38;5;241;43m*\u001b[39;49m\u001b[43margs\u001b[49m\u001b[43m,\u001b[49m\u001b[43m \u001b[49m\u001b[38;5;241;43m*\u001b[39;49m\u001b[38;5;241;43m*\u001b[39;49m\u001b[43mkwargs\u001b[49m\u001b[43m)\u001b[49m\n",
      "File \u001b[0;32m~/Documents/Development/pygasflow/pygasflow/utils/decorators.py:121\u001b[0m, in \u001b[0;36mcheck_shockwave.<locals>.decorator.<locals>.wrapper_function\u001b[0;34m(*args, **kwargs)\u001b[0m\n\u001b[1;32m    118\u001b[0m \u001b[38;5;28;01mif\u001b[39;00m \u001b[38;5;124m\"\u001b[39m\u001b[38;5;124mflag\u001b[39m\u001b[38;5;124m\"\u001b[39m \u001b[38;5;129;01min\u001b[39;00m all_param\u001b[38;5;241m.\u001b[39mkeys() \u001b[38;5;129;01mand\u001b[39;00m \u001b[38;5;28mlen\u001b[39m(args) \u001b[38;5;241m==\u001b[39m \u001b[38;5;28mlen\u001b[39m(all_param\u001b[38;5;241m.\u001b[39mkeys()):\n\u001b[1;32m    119\u001b[0m     args[\u001b[38;5;241m-\u001b[39m\u001b[38;5;241m1\u001b[39m] \u001b[38;5;241m=\u001b[39m _check_flag_shockwave(all_param[\u001b[38;5;124m\"\u001b[39m\u001b[38;5;124mflag\u001b[39m\u001b[38;5;124m\"\u001b[39m])\n\u001b[0;32m--> 121\u001b[0m res \u001b[38;5;241m=\u001b[39m \u001b[43moriginal_function\u001b[49m\u001b[43m(\u001b[49m\u001b[38;5;241;43m*\u001b[39;49m\u001b[43margs\u001b[49m\u001b[43m,\u001b[49m\u001b[43m \u001b[49m\u001b[38;5;241;43m*\u001b[39;49m\u001b[38;5;241;43m*\u001b[39;49m\u001b[43mkwargs\u001b[49m\u001b[43m)\u001b[49m\n\u001b[1;32m    122\u001b[0m \u001b[38;5;28;01mreturn\u001b[39;00m ret_correct_vals(res)\n",
      "File \u001b[0;32m~/Documents/Development/pygasflow/pygasflow/solvers/shockwave.py:150\u001b[0m, in \u001b[0;36mshockwave_solver\u001b[0;34m(p1_name, p1_value, p2_name, p2_value, gamma, flag)\u001b[0m\n\u001b[1;32m    148\u001b[0m     \u001b[38;5;28;01mif\u001b[39;00m \u001b[38;5;129;01mnot\u001b[39;00m \u001b[38;5;28misinstance\u001b[39m(theta, np\u001b[38;5;241m.\u001b[39mndarray):\n\u001b[1;32m    149\u001b[0m         theta \u001b[38;5;241m=\u001b[39m theta \u001b[38;5;241m*\u001b[39m np\u001b[38;5;241m.\u001b[39mones_like(beta)\n\u001b[0;32m--> 150\u001b[0m     M1 \u001b[38;5;241m=\u001b[39m \u001b[43mmach_from_theta_beta\u001b[49m\u001b[38;5;241;43m.\u001b[39;49m\u001b[43m__no_check\u001b[49m\u001b[43m(\u001b[49m\u001b[43mtheta\u001b[49m\u001b[43m,\u001b[49m\u001b[43m \u001b[49m\u001b[43mbeta\u001b[49m\u001b[43m)\u001b[49m\n\u001b[1;32m    151\u001b[0m \u001b[38;5;28;01melse\u001b[39;00m:   \u001b[38;5;66;03m# 'm2'\u001b[39;00m\n\u001b[1;32m    152\u001b[0m     \u001b[38;5;66;03m# TODO:\u001b[39;00m\n\u001b[1;32m    153\u001b[0m     \u001b[38;5;66;03m# Is it even possible to solve it knowing only M2, beta or M2, theta?????\u001b[39;00m\n\u001b[1;32m    154\u001b[0m     \u001b[38;5;28;01mraise\u001b[39;00m \u001b[38;5;167;01mNotImplementedError\u001b[39;00m(\u001b[38;5;124m\"\u001b[39m\u001b[38;5;124mSolving a shock wave with a given M2 is not yet implemented.\u001b[39m\u001b[38;5;124m\"\u001b[39m)\n",
      "File \u001b[0;32m~/Documents/Development/pygasflow/pygasflow/utils/decorators.py:125\u001b[0m, in \u001b[0;36mcheck_shockwave.<locals>.decorator.<locals>.no_check_function\u001b[0;34m(*args, **kwargs)\u001b[0m\n\u001b[1;32m    124\u001b[0m \u001b[38;5;28;01mdef\u001b[39;00m \u001b[38;5;21mno_check_function\u001b[39m(\u001b[38;5;241m*\u001b[39margs, \u001b[38;5;241m*\u001b[39m\u001b[38;5;241m*\u001b[39mkwargs):\n\u001b[0;32m--> 125\u001b[0m     res \u001b[38;5;241m=\u001b[39m \u001b[43moriginal_function\u001b[49m\u001b[43m(\u001b[49m\u001b[38;5;241;43m*\u001b[39;49m\u001b[43margs\u001b[49m\u001b[43m,\u001b[49m\u001b[43m \u001b[49m\u001b[38;5;241;43m*\u001b[39;49m\u001b[38;5;241;43m*\u001b[39;49m\u001b[43mkwargs\u001b[49m\u001b[43m)\u001b[49m\n\u001b[1;32m    126\u001b[0m     \u001b[38;5;28;01mreturn\u001b[39;00m ret_correct_vals(res)\n",
      "File \u001b[0;32m~/Documents/Development/pygasflow/pygasflow/shockwave.py:800\u001b[0m, in \u001b[0;36mmach_from_theta_beta\u001b[0;34m(theta, beta, gamma)\u001b[0m\n\u001b[1;32m    798\u001b[0m     theta_max[i] \u001b[38;5;241m=\u001b[39m theta_from_mach_beta(\u001b[38;5;241m100000\u001b[39m, b, gamma)\n\u001b[1;32m    799\u001b[0m \u001b[38;5;28;01mif\u001b[39;00m np\u001b[38;5;241m.\u001b[39many(theta \u001b[38;5;241m>\u001b[39m theta_max):\n\u001b[0;32m--> 800\u001b[0m     \u001b[38;5;28;01mraise\u001b[39;00m \u001b[38;5;167;01mValueError\u001b[39;00m(\u001b[38;5;124m\"\u001b[39m\u001b[38;5;124mThere is no solution for the current choice of\u001b[39m\u001b[38;5;124m\"\u001b[39m \u001b[38;5;241m+\u001b[39m \n\u001b[1;32m    801\u001b[0m     \u001b[38;5;124m\"\u001b[39m\u001b[38;5;124m parameters. Please check the Oblique Shock diagram with the following\u001b[39m\u001b[38;5;124m\"\u001b[39m\n\u001b[1;32m    802\u001b[0m     \u001b[38;5;124m\"\u001b[39m\u001b[38;5;124m parameters:\u001b[39m\u001b[38;5;130;01m\\n\u001b[39;00m\u001b[38;5;124m\"\u001b[39m \u001b[38;5;241m+\u001b[39m \n\u001b[1;32m    803\u001b[0m     \u001b[38;5;124m\"\u001b[39m\u001b[38;5;124mbeta = \u001b[39m\u001b[38;5;132;01m{}\u001b[39;00m\u001b[38;5;130;01m\\n\u001b[39;00m\u001b[38;5;124m\"\u001b[39m\u001b[38;5;241m.\u001b[39mformat(beta) \u001b[38;5;241m+\u001b[39m\n\u001b[1;32m    804\u001b[0m     \u001b[38;5;124m\"\u001b[39m\u001b[38;5;124mtheta = \u001b[39m\u001b[38;5;132;01m{}\u001b[39;00m\u001b[38;5;130;01m\\n\u001b[39;00m\u001b[38;5;124m\"\u001b[39m\u001b[38;5;241m.\u001b[39mformat(theta))\n\u001b[1;32m    805\u001b[0m \u001b[38;5;66;03m# case beta == 90 and theta == 0, which leaves M to be indeterminate, NaN\u001b[39;00m\n\u001b[1;32m    806\u001b[0m idx0 \u001b[38;5;241m=\u001b[39m np\u001b[38;5;241m.\u001b[39mbitwise_and(beta \u001b[38;5;241m==\u001b[39m \u001b[38;5;241m90\u001b[39m, theta \u001b[38;5;241m==\u001b[39m \u001b[38;5;241m0\u001b[39m)\n",
      "\u001b[0;31mValueError\u001b[0m: There is no solution for the current choice of parameters. Please check the Oblique Shock diagram with the following parameters:\nbeta = [88.]\ntheta = [20.]\n"
     ]
    }
   ],
   "source": [
    "print_oblique_shockwave(*shockwave_solver(\"beta\", 88, \"theta\", 20))"
   ]
  },
  {
   "cell_type": "markdown",
   "metadata": {},
   "source": [
    "## conical_shockwave_solver\n",
    "\n",
    "Let's look at the documentation for this function to see how it works:"
   ]
  },
  {
   "cell_type": "code",
   "execution_count": 17,
   "metadata": {},
   "outputs": [
    {
     "name": "stdout",
     "output_type": "stream",
     "text": [
      "Help on function conical_shockwave_solver in module pygasflow.solvers.shockwave:\n",
      "\n",
      "conical_shockwave_solver(M1, param_name, param_value, gamma=1.4, flag='weak')\n",
      "    Try to compute all the ratios, angles and mach numbers across the conical shock wave.\n",
      "    \n",
      "    Parameters\n",
      "    ----------\n",
      "    M1 : float\n",
      "        Upstream Mach number. Must be M1 > 1.\n",
      "    param_name : string\n",
      "        Name of the parameter given in input. Can be either one of:\n",
      "        \n",
      "        * ``'mc'``: Mach number at the cone's surface.\n",
      "        * ``'theta_c'``: Half cone angle.\n",
      "        * ``'beta'``: shock wave angle.\n",
      "    \n",
      "    param_value : float\n",
      "        Actual value of the parameter. Requirements:\n",
      "    \n",
      "        * Mc >= 0\n",
      "        * 0 < beta <= 90\n",
      "        * 0 < theta_c < 90\n",
      "    \n",
      "    gamma : float, optional\n",
      "        Specific heats ratio. Default to 1.4. Must be > 1.\n",
      "    flag : string, optional\n",
      "        Can be either ``'weak'`` or ``'strong'``. Default to ``'weak'``\n",
      "        (in conical shockwaves, the strong solution is rarely encountered).\n",
      "    \n",
      "    Returns\n",
      "    -------\n",
      "        M : float\n",
      "            Upstream Mach number.\n",
      "        Mc : float\n",
      "            Mach number at the surface of the cone.\n",
      "        theta_c : float\n",
      "            Half cone angle.\n",
      "        beta : float\n",
      "            Shock wave angle.\n",
      "        delta : float\n",
      "            Flow deflection angle.\n",
      "        pr : float\n",
      "            Pressure ratio across the shock wave.\n",
      "        dr : float\n",
      "            Density ratio across the shock wave.\n",
      "        tr : float\n",
      "            Temperature ratio across the shock wave.\n",
      "        tpr : float\n",
      "            Total Pressure ratio across the shock wave.\n",
      "        pc_p1 : float\n",
      "            Pressure ratio between the cone's surface and the upstream condition.\n",
      "        rhoc_rho1 : float\n",
      "            Density ratio between the cone's surface and the upstream condition.\n",
      "        Tc_T1 : float\n",
      "            Temperature ratio between the cone's surface and the upstream condition.\n",
      "\n"
     ]
    }
   ],
   "source": [
    "help(conical_shockwave_solver)"
   ]
  },
  {
   "cell_type": "code",
   "execution_count": 18,
   "metadata": {},
   "outputs": [],
   "source": [
    "def print_conical_shockwave(M1, Mc, theta_c, beta, delta, pr, dr, tr, tpr, pc_p1, rhoc_rho1, Tc_T1):\n",
    "    print(\"M1 \\t\\t {}\".format(M1))\n",
    "    print(\"Mc \\t\\t {}\".format(Mc))\n",
    "    print(\"theta_c \\t {}\".format(theta_c))\n",
    "    print(\"beta \\t\\t {}\".format(beta))\n",
    "    print(\"delta \\t\\t {}\".format(delta))\n",
    "    print(\"p2/p1 \\t\\t {}\".format(pr))\n",
    "    print(\"rho2/rho1 \\t {}\".format(dr))\n",
    "    print(\"t2/t1 \\t\\t {}\".format(tr))\n",
    "    print(\"p02/p01 \\t {}\".format(tpr))\n",
    "    print(\"pc/p1 \\t\\t {}\".format(pc_p1))\n",
    "    print(\"rho_c/rho1 \\t {}\".format(rhoc_rho1))\n",
    "    print(\"tc/t1 \\t\\t {}\".format(Tc_T1))"
   ]
  },
  {
   "cell_type": "code",
   "execution_count": 19,
   "metadata": {},
   "outputs": [
    {
     "name": "stdout",
     "output_type": "stream",
     "text": [
      "M1 \t\t 4.0\n",
      "Mc \t\t 3.3494441585129917\n",
      "theta_c \t 12.923342940926778\n",
      "beta \t\t 20\n",
      "delta \t\t 7.444220294251439\n",
      "p2/p1 \t\t 2.0169185308895377\n",
      "rho2/rho1 \t 1.6342327959123613\n",
      "t2/t1 \t\t 1.2341684342245318\n",
      "p02/p01 \t 0.965779172840477\n",
      "pc/p1 \t\t 2.385514639007803\n",
      "rho_c/rho1 \t 1.8423870467954182\n",
      "tc/t1 \t\t 1.2947955985454198\n"
     ]
    }
   ],
   "source": [
    "result = conical_shockwave_solver(4, 'beta', 20)\n",
    "print_conical_shockwave(*result)"
   ]
  },
  {
   "cell_type": "code",
   "execution_count": 20,
   "metadata": {},
   "outputs": [
    {
     "name": "stdout",
     "output_type": "stream",
     "text": [
      "M1 \t\t 3.0\n",
      "Mc \t\t 2.000000000000039\n",
      "theta_c \t 26.377485151514648\n",
      "beta \t\t 35.90847523748602\n",
      "delta \t\t 18.392639366690542\n",
      "p2/p1 \t\t 3.44505054944179\n",
      "rho2/rho1 \t 2.294355459847854\n",
      "t2/t1 \t\t 1.5015330491423686\n",
      "p02/p01 \t 0.8304690737856829\n",
      "pc/p1 \t\t 3.898726823356718\n",
      "rho_c/rho1 \t 2.506324386443648\n",
      "tc/t1 \t\t 1.5555555555555283\n"
     ]
    }
   ],
   "source": [
    "result = conical_shockwave_solver(3, 'theta_c', 26.377485151514648)\n",
    "print_conical_shockwave(*result)"
   ]
  },
  {
   "cell_type": "code",
   "execution_count": 21,
   "metadata": {},
   "outputs": [
    {
     "name": "stdout",
     "output_type": "stream",
     "text": [
      "M1 \t\t 3.0\n",
      "Mc \t\t 2.0\n",
      "theta_c \t 26.377485151514648\n",
      "beta \t\t 35.90847523748602\n",
      "delta \t\t 18.392639366690542\n",
      "p2/p1 \t\t 3.44505054944179\n",
      "rho2/rho1 \t 2.294355459847854\n",
      "t2/t1 \t\t 1.5015330491423686\n",
      "p02/p01 \t 0.8304690737856829\n",
      "pc/p1 \t\t 3.8987268233569545\n",
      "rho_c/rho1 \t 2.5063243864437568\n",
      "tc/t1 \t\t 1.5555555555555554\n"
     ]
    }
   ],
   "source": [
    "result = conical_shockwave_solver(3, 'mc', 2)\n",
    "print_conical_shockwave(*result)"
   ]
  },
  {
   "cell_type": "code",
   "execution_count": 22,
   "metadata": {},
   "outputs": [
    {
     "name": "stdout",
     "output_type": "stream",
     "text": [
      "M1 \t\t 3.0\n",
      "Mc \t\t 2.000000000000039\n",
      "theta_c \t 26.377485151514648\n",
      "beta \t\t 35.90847523748602\n",
      "delta \t\t 18.392639366690542\n",
      "p2/p1 \t\t 3.44505054944179\n",
      "rho2/rho1 \t 2.294355459847854\n",
      "t2/t1 \t\t 1.5015330491423686\n",
      "p02/p01 \t 0.8304690737856829\n",
      "pc/p1 \t\t 3.898726823356718\n",
      "rho_c/rho1 \t 2.506324386443648\n",
      "tc/t1 \t\t 1.5555555555555283\n"
     ]
    }
   ],
   "source": [
    "result = conical_shockwave_solver(3, 'beta', 35.90847523748602)\n",
    "print_conical_shockwave(*result)"
   ]
  },
  {
   "cell_type": "markdown",
   "metadata": {},
   "source": [
    "The solver should be able to detect detachment:"
   ]
  },
  {
   "cell_type": "code",
   "execution_count": 23,
   "metadata": {},
   "outputs": [
    {
     "ename": "ValueError",
     "evalue": "Detachment detected: can't solve the flow when theta_c > theta_c_max.\nM1 = [2.]\ntheta_c_max(M1) = 40.688476890932144\ntheta_c = 45\n",
     "output_type": "error",
     "traceback": [
      "\u001b[0;31m---------------------------------------------------------------------------\u001b[0m",
      "\u001b[0;31mValueError\u001b[0m                                Traceback (most recent call last)",
      "Input \u001b[0;32mIn [23]\u001b[0m, in \u001b[0;36m<module>\u001b[0;34m\u001b[0m\n\u001b[0;32m----> 1\u001b[0m result \u001b[38;5;241m=\u001b[39m \u001b[43mconical_shockwave_solver\u001b[49m\u001b[43m(\u001b[49m\u001b[38;5;241;43m2\u001b[39;49m\u001b[43m,\u001b[49m\u001b[43m \u001b[49m\u001b[38;5;124;43m'\u001b[39;49m\u001b[38;5;124;43mtheta_c\u001b[39;49m\u001b[38;5;124;43m'\u001b[39;49m\u001b[43m,\u001b[49m\u001b[43m \u001b[49m\u001b[38;5;241;43m45\u001b[39;49m\u001b[43m)\u001b[49m\n\u001b[1;32m      2\u001b[0m print_conical_shockwave(\u001b[38;5;241m*\u001b[39mresult)\n",
      "File \u001b[0;32m~/Documents/Development/pygasflow/pygasflow/utils/decorators.py:206\u001b[0m, in \u001b[0;36mas_array.<locals>.decorator.<locals>.wrapper_function\u001b[0;34m(*args, **kwargs)\u001b[0m\n\u001b[1;32m    204\u001b[0m     \u001b[38;5;28;01mif\u001b[39;00m i \u001b[38;5;241m<\u001b[39m \u001b[38;5;28mlen\u001b[39m(args):\n\u001b[1;32m    205\u001b[0m         args[i] \u001b[38;5;241m=\u001b[39m convert_to_ndarray(args[i])\n\u001b[0;32m--> 206\u001b[0m \u001b[38;5;28;01mreturn\u001b[39;00m \u001b[43moriginal_function\u001b[49m\u001b[43m(\u001b[49m\u001b[38;5;241;43m*\u001b[39;49m\u001b[43margs\u001b[49m\u001b[43m,\u001b[49m\u001b[43m \u001b[49m\u001b[38;5;241;43m*\u001b[39;49m\u001b[38;5;241;43m*\u001b[39;49m\u001b[43mkwargs\u001b[49m\u001b[43m)\u001b[49m\n",
      "File \u001b[0;32m~/Documents/Development/pygasflow/pygasflow/utils/decorators.py:121\u001b[0m, in \u001b[0;36mcheck_shockwave.<locals>.decorator.<locals>.wrapper_function\u001b[0;34m(*args, **kwargs)\u001b[0m\n\u001b[1;32m    118\u001b[0m \u001b[38;5;28;01mif\u001b[39;00m \u001b[38;5;124m\"\u001b[39m\u001b[38;5;124mflag\u001b[39m\u001b[38;5;124m\"\u001b[39m \u001b[38;5;129;01min\u001b[39;00m all_param\u001b[38;5;241m.\u001b[39mkeys() \u001b[38;5;129;01mand\u001b[39;00m \u001b[38;5;28mlen\u001b[39m(args) \u001b[38;5;241m==\u001b[39m \u001b[38;5;28mlen\u001b[39m(all_param\u001b[38;5;241m.\u001b[39mkeys()):\n\u001b[1;32m    119\u001b[0m     args[\u001b[38;5;241m-\u001b[39m\u001b[38;5;241m1\u001b[39m] \u001b[38;5;241m=\u001b[39m _check_flag_shockwave(all_param[\u001b[38;5;124m\"\u001b[39m\u001b[38;5;124mflag\u001b[39m\u001b[38;5;124m\"\u001b[39m])\n\u001b[0;32m--> 121\u001b[0m res \u001b[38;5;241m=\u001b[39m \u001b[43moriginal_function\u001b[49m\u001b[43m(\u001b[49m\u001b[38;5;241;43m*\u001b[39;49m\u001b[43margs\u001b[49m\u001b[43m,\u001b[49m\u001b[43m \u001b[49m\u001b[38;5;241;43m*\u001b[39;49m\u001b[38;5;241;43m*\u001b[39;49m\u001b[43mkwargs\u001b[49m\u001b[43m)\u001b[49m\n\u001b[1;32m    122\u001b[0m \u001b[38;5;28;01mreturn\u001b[39;00m ret_correct_vals(res)\n",
      "File \u001b[0;32m~/Documents/Development/pygasflow/pygasflow/solvers/shockwave.py:285\u001b[0m, in \u001b[0;36mconical_shockwave_solver\u001b[0;34m(M1, param_name, param_value, gamma, flag)\u001b[0m\n\u001b[1;32m    283\u001b[0m     Mc, theta_c \u001b[38;5;241m=\u001b[39m mach_cone_angle_from_shock_angle(M1, beta, gamma)\n\u001b[1;32m    284\u001b[0m \u001b[38;5;28;01melif\u001b[39;00m theta_c:\n\u001b[0;32m--> 285\u001b[0m     Mc, _, beta \u001b[38;5;241m=\u001b[39m \u001b[43mshock_angle_from_mach_cone_angle\u001b[49m\u001b[43m(\u001b[49m\u001b[43mM1\u001b[49m\u001b[43m,\u001b[49m\u001b[43m \u001b[49m\u001b[43mtheta_c\u001b[49m\u001b[43m,\u001b[49m\u001b[43m \u001b[49m\u001b[43mgamma\u001b[49m\u001b[43m,\u001b[49m\u001b[43m \u001b[49m\u001b[43mflag\u001b[49m\u001b[43m)\u001b[49m\n\u001b[1;32m    287\u001b[0m \u001b[38;5;66;03m# compute the ratios across the shockwave\u001b[39;00m\n\u001b[1;32m    288\u001b[0m MN1 \u001b[38;5;241m=\u001b[39m M1 \u001b[38;5;241m*\u001b[39m np\u001b[38;5;241m.\u001b[39msin(np\u001b[38;5;241m.\u001b[39mdeg2rad(beta))\n",
      "File \u001b[0;32m~/Documents/Development/pygasflow/pygasflow/utils/decorators.py:206\u001b[0m, in \u001b[0;36mas_array.<locals>.decorator.<locals>.wrapper_function\u001b[0;34m(*args, **kwargs)\u001b[0m\n\u001b[1;32m    204\u001b[0m     \u001b[38;5;28;01mif\u001b[39;00m i \u001b[38;5;241m<\u001b[39m \u001b[38;5;28mlen\u001b[39m(args):\n\u001b[1;32m    205\u001b[0m         args[i] \u001b[38;5;241m=\u001b[39m convert_to_ndarray(args[i])\n\u001b[0;32m--> 206\u001b[0m \u001b[38;5;28;01mreturn\u001b[39;00m \u001b[43moriginal_function\u001b[49m\u001b[43m(\u001b[49m\u001b[38;5;241;43m*\u001b[39;49m\u001b[43margs\u001b[49m\u001b[43m,\u001b[49m\u001b[43m \u001b[49m\u001b[38;5;241;43m*\u001b[39;49m\u001b[38;5;241;43m*\u001b[39;49m\u001b[43mkwargs\u001b[49m\u001b[43m)\u001b[49m\n",
      "File \u001b[0;32m~/Documents/Development/pygasflow/pygasflow/utils/decorators.py:121\u001b[0m, in \u001b[0;36mcheck_shockwave.<locals>.decorator.<locals>.wrapper_function\u001b[0;34m(*args, **kwargs)\u001b[0m\n\u001b[1;32m    118\u001b[0m \u001b[38;5;28;01mif\u001b[39;00m \u001b[38;5;124m\"\u001b[39m\u001b[38;5;124mflag\u001b[39m\u001b[38;5;124m\"\u001b[39m \u001b[38;5;129;01min\u001b[39;00m all_param\u001b[38;5;241m.\u001b[39mkeys() \u001b[38;5;129;01mand\u001b[39;00m \u001b[38;5;28mlen\u001b[39m(args) \u001b[38;5;241m==\u001b[39m \u001b[38;5;28mlen\u001b[39m(all_param\u001b[38;5;241m.\u001b[39mkeys()):\n\u001b[1;32m    119\u001b[0m     args[\u001b[38;5;241m-\u001b[39m\u001b[38;5;241m1\u001b[39m] \u001b[38;5;241m=\u001b[39m _check_flag_shockwave(all_param[\u001b[38;5;124m\"\u001b[39m\u001b[38;5;124mflag\u001b[39m\u001b[38;5;124m\"\u001b[39m])\n\u001b[0;32m--> 121\u001b[0m res \u001b[38;5;241m=\u001b[39m \u001b[43moriginal_function\u001b[49m\u001b[43m(\u001b[49m\u001b[38;5;241;43m*\u001b[39;49m\u001b[43margs\u001b[49m\u001b[43m,\u001b[49m\u001b[43m \u001b[49m\u001b[38;5;241;43m*\u001b[39;49m\u001b[38;5;241;43m*\u001b[39;49m\u001b[43mkwargs\u001b[49m\u001b[43m)\u001b[49m\n\u001b[1;32m    122\u001b[0m \u001b[38;5;28;01mreturn\u001b[39;00m ret_correct_vals(res)\n",
      "File \u001b[0;32m~/Documents/Development/pygasflow/pygasflow/shockwave.py:1161\u001b[0m, in \u001b[0;36mshock_angle_from_mach_cone_angle\u001b[0;34m(M1, theta_c, gamma, flag)\u001b[0m\n\u001b[1;32m   1159\u001b[0m     Mc \u001b[38;5;241m=\u001b[39m np\u001b[38;5;241m.\u001b[39mzeros_like(M1)\n\u001b[1;32m   1160\u001b[0m     \u001b[38;5;28;01mfor\u001b[39;00m i, m \u001b[38;5;129;01min\u001b[39;00m \u001b[38;5;28menumerate\u001b[39m(M1):\n\u001b[0;32m-> 1161\u001b[0m         Mc[i], theta_c_comp[i], beta[i] \u001b[38;5;241m=\u001b[39m \u001b[43mfunction\u001b[49m\u001b[43m(\u001b[49m\u001b[43mm\u001b[49m\u001b[43m)\u001b[49m\n\u001b[1;32m   1162\u001b[0m     \u001b[38;5;28;01mreturn\u001b[39;00m ret_correct_vals(Mc), ret_correct_vals(theta_c_comp), ret_correct_vals(beta)\n\u001b[1;32m   1163\u001b[0m \u001b[38;5;28;01mreturn\u001b[39;00m function(M1)\n",
      "File \u001b[0;32m~/Documents/Development/pygasflow/pygasflow/shockwave.py:1135\u001b[0m, in \u001b[0;36mshock_angle_from_mach_cone_angle.<locals>.function\u001b[0;34m(M)\u001b[0m\n\u001b[1;32m   1133\u001b[0m Mc, tcmax, bmax \u001b[38;5;241m=\u001b[39m max_theta_c_from_mach(M)\n\u001b[1;32m   1134\u001b[0m \u001b[38;5;28;01mif\u001b[39;00m theta_c \u001b[38;5;241m>\u001b[39m tcmax:\n\u001b[0;32m-> 1135\u001b[0m     \u001b[38;5;28;01mraise\u001b[39;00m \u001b[38;5;167;01mValueError\u001b[39;00m(\u001b[38;5;124m\"\u001b[39m\u001b[38;5;124mDetachment detected: can\u001b[39m\u001b[38;5;124m'\u001b[39m\u001b[38;5;124mt solve the flow when theta_c > theta_c_max.\u001b[39m\u001b[38;5;130;01m\\n\u001b[39;00m\u001b[38;5;124m\"\u001b[39m \u001b[38;5;241m+\u001b[39m\n\u001b[1;32m   1136\u001b[0m         \u001b[38;5;124m\"\u001b[39m\u001b[38;5;124mM1 = \u001b[39m\u001b[38;5;132;01m{}\u001b[39;00m\u001b[38;5;130;01m\\n\u001b[39;00m\u001b[38;5;124m\"\u001b[39m\u001b[38;5;241m.\u001b[39mformat(M1) \u001b[38;5;241m+\u001b[39m \n\u001b[1;32m   1137\u001b[0m         \u001b[38;5;124m\"\u001b[39m\u001b[38;5;124mtheta_c_max(M1) = \u001b[39m\u001b[38;5;132;01m{}\u001b[39;00m\u001b[38;5;130;01m\\n\u001b[39;00m\u001b[38;5;124m\"\u001b[39m\u001b[38;5;241m.\u001b[39mformat(tcmax) \u001b[38;5;241m+\u001b[39m\n\u001b[1;32m   1138\u001b[0m         \u001b[38;5;124m\"\u001b[39m\u001b[38;5;124mtheta_c = \u001b[39m\u001b[38;5;132;01m{}\u001b[39;00m\u001b[38;5;130;01m\\n\u001b[39;00m\u001b[38;5;124m\"\u001b[39m\u001b[38;5;241m.\u001b[39mformat(theta_c))\n\u001b[1;32m   1140\u001b[0m \u001b[38;5;66;03m# need to add a small offset otherwise mach_cone_angle_from_shock_angle\u001b[39;00m\n\u001b[1;32m   1141\u001b[0m \u001b[38;5;66;03m# could crash\u001b[39;00m\n\u001b[1;32m   1142\u001b[0m bmin \u001b[38;5;241m=\u001b[39m np\u001b[38;5;241m.\u001b[39mrad2deg(np\u001b[38;5;241m.\u001b[39marcsin(\u001b[38;5;241m1\u001b[39m \u001b[38;5;241m/\u001b[39m M)) \u001b[38;5;241m+\u001b[39m \u001b[38;5;241m1e-08\u001b[39m\n",
      "\u001b[0;31mValueError\u001b[0m: Detachment detected: can't solve the flow when theta_c > theta_c_max.\nM1 = [2.]\ntheta_c_max(M1) = 40.688476890932144\ntheta_c = 45\n"
     ]
    }
   ],
   "source": [
    "result = conical_shockwave_solver(2, 'theta_c', 45)\n",
    "print_conical_shockwave(*result)"
   ]
  },
  {
   "cell_type": "code",
   "execution_count": null,
   "metadata": {},
   "outputs": [],
   "source": []
  }
 ],
 "metadata": {
  "kernelspec": {
   "display_name": "Python 3 (ipykernel)",
   "language": "python",
   "name": "python3"
  },
  "language_info": {
   "codemirror_mode": {
    "name": "ipython",
    "version": 3
   },
   "file_extension": ".py",
   "mimetype": "text/x-python",
   "name": "python",
   "nbconvert_exporter": "python",
   "pygments_lexer": "ipython3",
   "version": "3.9.7"
  },
  "toc": {
   "base_numbering": 1,
   "nav_menu": {},
   "number_sections": true,
   "sideBar": true,
   "skip_h1_title": false,
   "title_cell": "Table of Contents",
   "title_sidebar": "Contents",
   "toc_cell": false,
   "toc_position": {},
   "toc_section_display": true,
   "toc_window_display": false
  }
 },
 "nbformat": 4,
 "nbformat_minor": 2
}
