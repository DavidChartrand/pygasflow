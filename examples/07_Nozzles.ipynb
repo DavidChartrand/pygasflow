{
 "cells": [
  {
   "cell_type": "markdown",
   "metadata": {},
   "source": [
    "# C-D Nozzles"
   ]
  },
  {
   "cell_type": "markdown",
   "metadata": {},
   "source": [
    "`pygasflow` comes with a nozzle subpackage, aimed to build and visuale different nozzle designs. \n",
    "\n",
    "At the time of writing, three different nozzles are implemented:\n",
    "1. `CD_Conical_Nozzle`: the nozzle's divergent is conical. Support both planar and axisymmetric geometry.\n",
    "2. `CD_TOP_Nozzle`: Thrust Optimized Parabolic, based on Rao's parabolic approximation. Support both planar and axisymmetric geometry.\n",
    "3. `CD_Min_Length_Nozzle`: Minimum Length Nozzle built with the Method of Characteristics where the expansion takes place through a centered Prandtl-Meyer wave emanating from a sharp corner throat. Support only planar geometry. "
   ]
  },
  {
   "cell_type": "code",
   "execution_count": 1,
   "metadata": {},
   "outputs": [],
   "source": [
    "import numpy as np\n",
    "import matplotlib.pyplot as plt\n",
    "from pygasflow.nozzles import (\n",
    "    CD_Conical_Nozzle,\n",
    "    CD_TOP_Nozzle,\n",
    "    CD_Min_Length_Nozzle\n",
    ")"
   ]
  },
  {
   "cell_type": "markdown",
   "metadata": {},
   "source": [
    "Let's look at the help, for example about the `CD_Conical_Nozzle`:"
   ]
  },
  {
   "cell_type": "code",
   "execution_count": 2,
   "metadata": {},
   "outputs": [
    {
     "name": "stdout",
     "output_type": "stream",
     "text": [
      "Help on class CD_Conical_Nozzle in module pygasflow.nozzles.cd_conical:\n",
      "\n",
      "class CD_Conical_Nozzle(pygasflow.nozzles.nozzle_geometry.Nozzle_Geometry)\n",
      " |  CD_Conical_Nozzle(Ri, Re, Rt, Rj, R0, theta_c, theta_N=15, geometry_type='axisymmetric', N=100)\n",
      " |  \n",
      " |  Convergent-Divergent nozzle with conical divergent.\n",
      " |  \n",
      " |  Examples\n",
      " |  --------\n",
      " |  \n",
      " |  .. plot::\n",
      " |     :context: reset\n",
      " |     :format: python\n",
      " |     :include-source: True\n",
      " |  \n",
      " |     from pygasflow import CD_Conical_Nozzle\n",
      " |     import matplotlib.pyplot as plt\n",
      " |     Ri = 0.4\n",
      " |     Re = 1.2\n",
      " |     Rt = 0.2\n",
      " |     geom = CD_Conical_Nozzle(Ri, Re, Rt, 0.15, 1, 30, 25)\n",
      " |     x, y = geom.build_geometry(100)\n",
      " |     plt.figure()\n",
      " |     plt.plot(x, y)\n",
      " |     plt.xlabel(\"Length\")\n",
      " |     plt.ylabel(\"Radius\")\n",
      " |     plt.grid()\n",
      " |     plt.axis('equal')\n",
      " |     plt.show()\n",
      " |  \n",
      " |  Method resolution order:\n",
      " |      CD_Conical_Nozzle\n",
      " |      pygasflow.nozzles.nozzle_geometry.Nozzle_Geometry\n",
      " |      builtins.object\n",
      " |  \n",
      " |  Methods defined here:\n",
      " |  \n",
      " |  __init__(self, Ri, Re, Rt, Rj, R0, theta_c, theta_N=15, geometry_type='axisymmetric', N=100)\n",
      " |      Parameters\n",
      " |      ----------\n",
      " |      Ri : float\n",
      " |          Inlet radius.\n",
      " |      Re : float\n",
      " |          Exit (outlet) radius.\n",
      " |      Rt : float\n",
      " |          Throat radius.\n",
      " |      Rj : float\n",
      " |          Radius of the junction between convergent and divergent.\n",
      " |      R0 : float\n",
      " |          Radius of the junction between combustion chamber and convergent.\n",
      " |      theta_c : float\n",
      " |          Half angle [degrees] of the convergent.\n",
      " |      theta_N : float\n",
      " |          Half angle [degrees] of the conical divergent. Default to 15 deg.\n",
      " |      geometry_type : string\n",
      " |          Specify the geometry type of the nozzle. Can be either\n",
      " |          ``'axisymmetric'`` or ``'planar'``.\n",
      " |          If ``'planar'`` is specified, Ri, Re, Rt will be considered as\n",
      " |          half of the height of the respective sections (therefore, R is the\n",
      " |          distance from the line of symmetry and the nozzle wall).\n",
      " |          To compute the cross section area, \"axisymmetric\" uses the formula\n",
      " |          A = pi * r**2, whereas \"planar\" uses the formula A = 2 * r. Note\n",
      " |          the lack of width in the planar formula, this is because in the\n",
      " |          area ratios it simplifies, hence it is not considere here.\n",
      " |      N : int\n",
      " |          Number of discretization elements along the length of the nozzle.\n",
      " |          Default to 100.\n",
      " |  \n",
      " |  __str__(self)\n",
      " |      Return str(self).\n",
      " |  \n",
      " |  build_geometry(self, N)\n",
      " |      Discretize the length of the nozzle and compute the nozzle profile.\n",
      " |      \n",
      " |      Parameters\n",
      " |      ----------\n",
      " |      N : int\n",
      " |          Number of discretization elements along the length of the nozzle. Default to 100.\n",
      " |      \n",
      " |      Returns\n",
      " |      -------\n",
      " |      x : array_like\n",
      " |          x-coordinate along the nozzle length.\n",
      " |      y : array_like\n",
      " |          y_coordinate of the nozzle wall.\n",
      " |  \n",
      " |  ----------------------------------------------------------------------\n",
      " |  Readonly properties defined here:\n",
      " |  \n",
      " |  intersection_points\n",
      " |  \n",
      " |  ----------------------------------------------------------------------\n",
      " |  Methods inherited from pygasflow.nozzles.nozzle_geometry.Nozzle_Geometry:\n",
      " |  \n",
      " |  get_points(self, area_ratio=False, offset=1.2)\n",
      " |      Helper function used to construct a matrix of points representing\n",
      " |      the nozzle for visualization purposes.\n",
      " |      \n",
      " |      Parameters\n",
      " |      ----------\n",
      " |      area_ratio : Boolean\n",
      " |          If True, represents the area ratio A/A*. Otherwise, represents\n",
      " |          the radius. Default to False.\n",
      " |      offset : float\n",
      " |          Used to construct the container (or the walls) of the nozzle.\n",
      " |          The container radius is equal to offset * max_nozzle_radius.\n",
      " |      \n",
      " |      Returns\n",
      " |      -------\n",
      " |          points_top : np.ndarray [Nx2]\n",
      " |              Matrix representing the wall at the top of the nozzle.\n",
      " |          points_mid : np.ndarray [Nx2]\n",
      " |              Matrix representing the flow area.\n",
      " |          points_bottom : np.ndarray [Nx2]\n",
      " |              Matrix representing the wall at the bottom of the nozzle.\n",
      " |  \n",
      " |  location_divergent_from_area_ratio(self, A_ratio)\n",
      " |      Given an area ratio, compute the location on the divergent where\n",
      " |      this area ratio is located.\n",
      " |      \n",
      " |      Parameters\n",
      " |      ----------\n",
      " |      A_ratio : float\n",
      " |          A / At\n",
      " |      \n",
      " |      Returns\n",
      " |      -------\n",
      " |      x : float\n",
      " |          x-coordinate along the divergent length.\n",
      " |  \n",
      " |  ----------------------------------------------------------------------\n",
      " |  Readonly properties inherited from pygasflow.nozzles.nozzle_geometry.Nozzle_Geometry:\n",
      " |  \n",
      " |  area_ratio_array\n",
      " |  \n",
      " |  critical_area\n",
      " |  \n",
      " |  critical_radius\n",
      " |  \n",
      " |  inlet_area\n",
      " |  \n",
      " |  inlet_radius\n",
      " |  \n",
      " |  length\n",
      " |  \n",
      " |  length_array\n",
      " |  \n",
      " |  length_convergent\n",
      " |  \n",
      " |  length_divergent\n",
      " |  \n",
      " |  outlet_area\n",
      " |  \n",
      " |  outlet_radius\n",
      " |  \n",
      " |  wall_radius_array\n",
      " |  \n",
      " |  ----------------------------------------------------------------------\n",
      " |  Data descriptors inherited from pygasflow.nozzles.nozzle_geometry.Nozzle_Geometry:\n",
      " |  \n",
      " |  __dict__\n",
      " |      dictionary for instance variables (if defined)\n",
      " |  \n",
      " |  __weakref__\n",
      " |      list of weak references to the object (if defined)\n",
      "\n"
     ]
    }
   ],
   "source": [
    "help(CD_Conical_Nozzle)"
   ]
  },
  {
   "cell_type": "markdown",
   "metadata": {},
   "source": [
    "We can see that to construct a nozzle we need to use a bunch of radius for different sections and junctions.  \n",
    "We can specify the geometry type (axisymmetric or planar), from which the nozzle will compute the areas. With axisymmetric geometry, the nozzle uses a circular cross section. With planar nozzle, the radius is defined as half height of the nozzle section.\n",
    "\n",
    "We can also see a bunch of methods, that can get us the respective nozzle values (like `Critical_Radius`, `Inlet_Radius`, ....)"
   ]
  },
  {
   "cell_type": "markdown",
   "metadata": {},
   "source": [
    "## Axisymmetric nozzles\n",
    "\n",
    "Axisymmetric nozzles use a circular cross section. Let's define the important parameters:"
   ]
  },
  {
   "cell_type": "code",
   "execution_count": 3,
   "metadata": {},
   "outputs": [],
   "source": [
    "# inlet radius of the convergent section\n",
    "Ri = 0.4\n",
    "# throat radius\n",
    "Rt = 0.2\n",
    "# exit (outlet) radius of the divergent section\n",
    "Re = 1.2\n",
    "# junction radius between the convergent and divergent at the throat section. Used in the conical nozzle.\n",
    "Rj = 0.1\n",
    "# junction radius between the combustion chamber and the convergent\n",
    "R0 = 0.2\n",
    "# half cone angle of the convergent section\n",
    "theta_c = 40\n",
    "# half cone angle of the divergent section\n",
    "theta_N = 15\n",
    "# fractional lengths. Used to construct TOP nozzles.\n",
    "K = [0.6, 0.7, 0.8, 0.9, 1]"
   ]
  },
  {
   "cell_type": "markdown",
   "metadata": {},
   "source": [
    "Here I create a `nozzles` list for convenience. The different nozzles will be appended to this list. Note that I also specify the geometry type to be axisymmetric."
   ]
  },
  {
   "cell_type": "code",
   "execution_count": 4,
   "metadata": {},
   "outputs": [],
   "source": [
    "geom_type = \"axisymmetric\"\n",
    "nozzles = []\n",
    "nozzles.append(CD_Conical_Nozzle(Ri, Re, Rt, Rj, R0, theta_c, theta_N, geom_type))\n",
    "for k in K:\n",
    "    nozzles.append(CD_TOP_Nozzle(Ri, Re, Rt, R0, theta_c, k, geom_type))"
   ]
  },
  {
   "cell_type": "markdown",
   "metadata": {},
   "source": [
    "I can print the nozzle object to get a textual description. We can notice that the areas have been computed using the circular area formula. I can access the different values with the methods seen above."
   ]
  },
  {
   "cell_type": "code",
   "execution_count": 5,
   "metadata": {},
   "outputs": [
    {
     "name": "stdout",
     "output_type": "stream",
     "text": [
      "C-D Conical Nozzle\n",
      "Radius:\n",
      "\tRi\t0.4\n",
      "\tRe\t1.2\n",
      "\tRt\t0.2\n",
      "Areas:\n",
      "\tAi\t0.5026548245743669\n",
      "\tAe\t4.523893421169302\n",
      "\tAt\t0.12566370614359174\n",
      "Lengths:\n",
      "\tLc\t0.3475417887987027\n",
      "\tLd\t3.7452160573276165\n",
      "\tL\t4.092757846126319\n",
      "Angles:\n",
      "\ttheta_c\t40\n",
      "\ttheta_N\t15\n",
      "\n"
     ]
    }
   ],
   "source": [
    "print(nozzles[0])"
   ]
  },
  {
   "cell_type": "markdown",
   "metadata": {},
   "source": [
    "Here I plot the different nozzles for comparison."
   ]
  },
  {
   "cell_type": "code",
   "execution_count": 6,
   "metadata": {},
   "outputs": [
    {
     "data": {
      "image/png": "[encoded data removed]",
      "text/plain": [
       "<Figure size 432x288 with 1 Axes>"
      ]
     },
     "metadata": {
      "needs_background": "light"
     },
     "output_type": "display_data"
    }
   ],
   "source": [
    "# number of discretization points along the nozzle length \n",
    "N = 1000\n",
    "plt.figure()\n",
    "\n",
    "for i, g in enumerate(nozzles):\n",
    "    lbl = \"Conical\"\n",
    "    if i != 0:\n",
    "        lbl = \"TOP: K = {}\".format(K[i-1])\n",
    "    x, y = g.build_geometry(N)\n",
    "    plt.plot(x, y, label=lbl)\n",
    "plt.legend()\n",
    "plt.xlabel(\"Length\")\n",
    "plt.ylabel(\"Radius\")\n",
    "plt.title(\"Axisymmetric\")\n",
    "plt.minorticks_on()\n",
    "plt.grid(which='major', linestyle='-', alpha=0.7)\n",
    "plt.grid(which='minor', linestyle=':', alpha=0.5)\n",
    "plt.axis('equal')\n",
    "plt.show()"
   ]
  },
  {
   "cell_type": "markdown",
   "metadata": {},
   "source": [
    "The difference in the convergent's length between conical and TOP nozzles is due to the different throat junction radius. Rao's TOP nozzle uses a prescribed radius, whereas in the conical nozzle we can specify the radius we'd like.\n",
    "\n",
    "From this picture we can also appreciate the Fractional Length of the nozzle with respect to a same exit area ratio conical nozzle with 15 deg half-cone angle."
   ]
  },
  {
   "cell_type": "markdown",
   "metadata": {},
   "source": [
    "## Planar Nozzles\n",
    "\n",
    "Planar nozzles do not use a circular cross section. Think of them having a rectangular cross section: the width is constant along the length of the nozzle, therefore in the area ratios the width simplify. For this reason, we can discard the width, and think about the area as a _unit_ area.\n",
    "\n",
    "In this case, the radius corresponds to half height of the cross section (the distance from the line of symmetry of the planar nozzle, to the wall)."
   ]
  },
  {
   "cell_type": "code",
   "execution_count": 7,
   "metadata": {},
   "outputs": [
    {
     "name": "stdout",
     "output_type": "stream",
     "text": [
      "C-D TOP Nozzle\n",
      "Radius:\n",
      "\tRi\t0.4\n",
      "\tRe\t1.2\n",
      "\tRt\t0.2\n",
      "Areas:\n",
      "\tAi\t0.8\n",
      "\tAe\t2.4\n",
      "\tAt\t0.4\n",
      "Lengths:\n",
      "\tLc\t0.4203358356519432\n",
      "\tLd\t2.6194763408691877\n",
      "\tL\t3.039812176521131\n",
      "Angles:\n",
      "\ttheta_c\t40\n",
      "\ttheta_N\t29.526881404482012\n",
      "\ttheta_e\t14.248957413040683\n",
      "\n"
     ]
    }
   ],
   "source": [
    "geom_type = \"planar\"\n",
    "\n",
    "conical = CD_Conical_Nozzle(Ri, Re, Rt, Rj, R0, theta_c, theta_N, geom_type)\n",
    "\n",
    "# fractional length of the TOP nozzle\n",
    "K = 0.7\n",
    "top = CD_TOP_Nozzle(Ri, Re, Rt, R0, theta_c, 0.7, geom_type)\n",
    "print(top)"
   ]
  },
  {
   "cell_type": "markdown",
   "metadata": {},
   "source": [
    "For the `CD_Min_Length_Nozzle` we also need to specify the specific heats ratio of the gas and the number of characteristics lines to use."
   ]
  },
  {
   "cell_type": "code",
   "execution_count": 8,
   "metadata": {},
   "outputs": [],
   "source": [
    "# number of characteristics\n",
    "n = 15\n",
    "# specific heats ratio\n",
    "gamma = 1.4\n",
    "\n",
    "moc = CD_Min_Length_Nozzle(Ri, Re, Rt, Rj, R0, theta_c, n, gamma)"
   ]
  },
  {
   "cell_type": "code",
   "execution_count": 9,
   "metadata": {},
   "outputs": [
    {
     "data": {
      "image/png": "[encoded data removed]",
      "text/plain": [
       "<Figure size 432x288 with 1 Axes>"
      ]
     },
     "metadata": {
      "needs_background": "light"
     },
     "output_type": "display_data"
    }
   ],
   "source": [
    "N = 1000\n",
    "x1, y1 = conical.build_geometry(N)\n",
    "x2, y2 = top.build_geometry(N)\n",
    "x3, y3 = moc.build_geometry(N)\n",
    "plt.figure()\n",
    "plt.plot(x1, y1, label=\"conical\")\n",
    "plt.plot(x2, y2, label=\"TOP: K = {}\".format(top.Fractional_Length))\n",
    "plt.plot(x3, y3, label=\"MOC\")\n",
    "plt.legend()\n",
    "plt.xlabel(\"Length\")\n",
    "plt.ylabel(\"Half Height\")\n",
    "plt.title(\"Planar\")\n",
    "plt.minorticks_on()\n",
    "plt.grid(which='major', linestyle='-', alpha=0.7)\n",
    "plt.grid(which='minor', linestyle=':', alpha=0.5)\n",
    "plt.axis('equal')\n",
    "plt.show()"
   ]
  },
  {
   "cell_type": "code",
   "execution_count": null,
   "metadata": {},
   "outputs": [],
   "source": []
  }
 ],
 "metadata": {
  "kernelspec": {
   "display_name": "Python 3 (ipykernel)",
   "language": "python",
   "name": "python3"
  },
  "language_info": {
   "codemirror_mode": {
    "name": "ipython",
    "version": 3
   },
   "file_extension": ".py",
   "mimetype": "text/x-python",
   "name": "python",
   "nbconvert_exporter": "python",
   "pygments_lexer": "ipython3",
   "version": "3.9.7"
  },
  "toc": {
   "base_numbering": 1,
   "nav_menu": {},
   "number_sections": true,
   "sideBar": true,
   "skip_h1_title": false,
   "title_cell": "Table of Contents",
   "title_sidebar": "Contents",
   "toc_cell": false,
   "toc_position": {},
   "toc_section_display": true,
   "toc_window_display": false
  }
 },
 "nbformat": 4,
 "nbformat_minor": 2
}
