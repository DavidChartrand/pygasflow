{
 "cells": [
  {
   "cell_type": "markdown",
   "id": "9378e340",
   "metadata": {},
   "source": [
    "## Pressure distribution on the Apollo Command Module\n",
    "\n",
    "In the following notebook we are quickly going to check the pressure distribution on the Apollo Command Module computed with the modified Newtonian theory, and compare it with laboratory data.\n",
    "\n",
    "For more information check:\n",
    "\n",
    "* \"Hypersonic Aerothermodynamics\", Chapter 6, by John J. Bertin\n",
    "* \"The effect of protuberances, cavities and angle of attack on the wind-tunnel pressure and heat-transfer distribution for the Apollo Command Module\", John J. Bertin\n",
    "\n",
    "Note: the results will not be commented here. Refer to the above source to better understand the differences between computed results and lab-data."
   ]
  },
  {
   "cell_type": "markdown",
   "id": "494893dd",
   "metadata": {},
   "source": [
    "### Apollo Command Module geometry"
   ]
  },
  {
   "cell_type": "code",
   "execution_count": 1,
   "id": "97b93a37",
   "metadata": {},
   "outputs": [],
   "source": [
    "import matplotlib.pyplot as plt\n",
    "import numpy as np\n",
    "\n",
    "R1 = 4.694\n",
    "R2 = 0.196\n",
    "R3 = 0.39\n",
    "Rb = 1.956\n",
    "# half-angle of the conical section\n",
    "theta1 = 33\n",
    "# angle of the intersection between arc of radius R1 with\n",
    "# arc of radius R2\n",
    "theta2 = 23.045"
   ]
  },
  {
   "cell_type": "markdown",
   "id": "855eb078",
   "metadata": {},
   "source": [
    "A quick drawing to visualize the profile:"
   ]
  },
  {
   "cell_type": "code",
   "execution_count": 2,
   "id": "d461d638",
   "metadata": {},
   "outputs": [
    {
     "data": {
      "image/png": "[encoded data removed]",
      "text/plain": [
       "<Figure size 432x288 with 1 Axes>"
      ]
     },
     "metadata": {
      "needs_background": "light"
     },
     "output_type": "display_data"
    }
   ],
   "source": [
    "t = np.deg2rad(np.linspace(0, theta2, 100))\n",
    "x1 = R1 * np.cos(t)\n",
    "y1 = R1 * np.sin(t)\n",
    "t = np.deg2rad(np.linspace(theta2, 90 + theta1, 100))\n",
    "x2 = R2 * np.cos(t) + x1[-1] - R2 * np.cos(np.deg2rad(theta2))\n",
    "y2 = R2 * np.sin(t) + y1[-1] - R2 * np.sin(np.deg2rad(theta2))\n",
    "t = np.deg2rad(np.linspace(90 + theta1, 180, 100))\n",
    "d = 1.91627\n",
    "x3 = R3 * np.cos(t) + d\n",
    "y3 = R3 * np.sin(t)\n",
    "\n",
    "x = np.concatenate([x1, x2, x3])\n",
    "x = np.concatenate([x, np.flip(x)])\n",
    "y = np.concatenate([y1, y2, y3])\n",
    "y = np.concatenate([y, -np.flip(y)])\n",
    "\n",
    "plt.figure()\n",
    "plt.plot(x, y)\n",
    "plt.arrow(0, 0, R1 - 0.12, 0, width=0.0005, head_width=0.08)\n",
    "plt.annotate(\"$R_{1}$\", (2 * R1 / 3, 0.1))\n",
    "plt.arrow(4.13937, 1.760, 0, R2, width=0.0005)\n",
    "plt.arrow(4.13937, 1.760 + 3 * R2 + 0.1, 0, -2 * R2, width=0.0005, head_width=0.08)\n",
    "plt.annotate(\"$R_{2}$\", (4.13937 + 0.05, 1.760 + 2 * R2))\n",
    "plt.arrow(4.13937, 0, 0, -Rb + 0.12, width=0.0005, head_width=0.08)\n",
    "plt.annotate(\"$R_{b}$\", (4.13937 + 0.05, -Rb / 2))\n",
    "\n",
    "t = np.deg2rad(np.linspace(0, theta1))\n",
    "x4 = 1.06934 + (2.2 - 1.06934) * np.cos(t)\n",
    "y4 = (2.2 - 1.06934) * np.sin(t)\n",
    "plt.plot(x4, y4, 'k:')\n",
    "plt.annotate(r\"$\\theta_{1}$\", (2.25, 0.35))\n",
    "plt.plot([0, R1 * np.cos(np.deg2rad(theta2))], [0, R1 * np.sin(np.deg2rad(theta2))], 'k--', alpha=0.5)\n",
    "\n",
    "t = np.deg2rad(np.linspace(0, theta2))\n",
    "x5, y5 = 3.85 * np.cos(t), 3.85 * np.sin(t)\n",
    "plt.plot(x5, y5, 'k:')\n",
    "plt.annotate(r\"$\\theta_{2}$\", (3.85, 0.75))\n",
    "\n",
    "t = np.deg2rad(np.linspace(0, 5))\n",
    "x6, y6 = 4.8 * np.cos(t), 4.8 * np.sin(t)\n",
    "plt.plot(x6, y6, 'k')\n",
    "plt.arrow(x6[-1], y6[-1], -0.005, 0.1, head_width=0.08)\n",
    "plt.annotate(\"s\", (4.85, 0.25))\n",
    "\n",
    "plt.xlabel(\"x [m]\")\n",
    "plt.ylabel(\"y [m]\")\n",
    "plt.title(\"Apollo Command Module profile\")\n",
    "plt.axis('scaled')\n",
    "plt.show()"
   ]
  },
  {
   "cell_type": "markdown",
   "id": "cab90b4b",
   "metadata": {},
   "source": [
    "Let's now compute the length $s$ and the associated local body angles $\\theta_{b}$:"
   ]
  },
  {
   "cell_type": "code",
   "execution_count": 3,
   "id": "cd81ab1f",
   "metadata": {},
   "outputs": [],
   "source": [
    "theta3 = 90 - theta2\n",
    "# arc length of radius R1\n",
    "sR1 = np.deg2rad(theta2) * R1\n",
    "# total length up to the maximum body radius Rb\n",
    "s = sR1 + np.deg2rad(theta3) * R2\n",
    "# discretize the length\n",
    "s_arr = np.linspace(0, s, 200)\n",
    "# local body angle\n",
    "theta_b = np.zeros_like(s_arr)\n",
    "for i, v in enumerate(s_arr):\n",
    "    if v <= sR1:\n",
    "        theta_b[i] = np.pi / 2 - s_arr[i] / R1\n",
    "    else:\n",
    "        theta_b[i] = np.pi / 2 - ((s_arr[i] - sR1) / R2 + np.deg2rad(theta2))\n",
    "s_arr = np.concatenate([np.flip(-s_arr), s_arr])\n",
    "theta_b = np.concatenate([np.pi - np.flip(theta_b), theta_b])"
   ]
  },
  {
   "cell_type": "markdown",
   "id": "2a6b874b",
   "metadata": {},
   "source": [
    "Note:\n",
    "\n",
    "* $s / R_{b} = 0.965$ defines the tangency point between the arc of radius $R_{1}$ and the arc of radius $R_{2}$.\n",
    "* $s / R_{b} = 1.082$ corresponds to the maximum body radius $R_{b}$."
   ]
  },
  {
   "cell_type": "markdown",
   "id": "ae1e9553",
   "metadata": {},
   "source": [
    "### 0deg angle of attack\n",
    "\n",
    "The experimental data is given here. The first column represents $s / R_{B}$ while the second column is $p_{s} / p_{t2}$."
   ]
  },
  {
   "cell_type": "code",
   "execution_count": 4,
   "id": "5ce480a1",
   "metadata": {},
   "outputs": [],
   "source": [
    "# free stream Mach number\n",
    "Minf = 10.18\n",
    "\n",
    "data_0deg = np.array([\n",
    "    [-1.027237354085603, 0.1834808259587022],\n",
    "    [-0.9478599221789883, 0.5775811209439529],\n",
    "    [-0.7844357976653697, 0.8442477876106195],\n",
    "    [-0.2334630350194553, 0.983480825958702],\n",
    "    [0.03268482490272362, 0.9929203539823008],\n",
    "    [0.2894941634241248, 0.966961651917404],\n",
    "    [0.5649805447470819, 0.9244837758112094],\n",
    "    [0.7003891050583655, 0.8418879056047198],\n",
    "    [0.8357976653696495, 0.8135693215339233],\n",
    "    [0.891828793774319, 0.7734513274336283],\n",
    "    [0.943190661478599, 0.7097345132743362],\n",
    "    [0.9992217898832685, 0.5256637168141592],\n",
    "    [1.045914396887159, 0.17640117994100302],\n",
    "    [1.0972762645914398, 0.018289085545722727]\n",
    "])"
   ]
  },
  {
   "cell_type": "markdown",
   "id": "5db2364e",
   "metadata": {},
   "source": [
    "Let's now compute the pressure distribution with a modified newtonian flow model:"
   ]
  },
  {
   "cell_type": "code",
   "execution_count": 5,
   "id": "80a07c1f",
   "metadata": {},
   "outputs": [
    {
     "data": {
      "image/png": "[encoded data removed]",
      "text/plain": [
       "<Figure size 432x288 with 1 Axes>"
      ]
     },
     "metadata": {
      "needs_background": "light"
     },
     "output_type": "display_data"
    }
   ],
   "source": [
    "from pygasflow.newton import modified_newtonian_pressure_ratio\n",
    "ps_pt2 = modified_newtonian_pressure_ratio(Minf, theta_b)\n",
    "\n",
    "plt.figure()\n",
    "plt.plot(data_0deg[:, 0], data_0deg[:, 1], 's', label=\"lab data\")\n",
    "plt.plot(s_arr / Rb, ps_pt2, label=\"Modified Newtonian theory\")\n",
    "plt.xlabel(r\"$s / R_{b}$\")\n",
    "plt.ylabel(r\"$p_{s} / p_{t2}$\")\n",
    "plt.title(r\"$M_{\\infty} = 10.18 \\qquad \\alpha = 0°$\")\n",
    "plt.legend()\n",
    "plt.show()"
   ]
  },
  {
   "cell_type": "markdown",
   "id": "c4efe789",
   "metadata": {},
   "source": [
    "### 33deg angle of attack\n",
    "\n",
    "The experimental data is given here. The first column represents $s / R_{B}$ while the second column is $p_{s} / p_{t2}$."
   ]
  },
  {
   "cell_type": "code",
   "execution_count": 6,
   "id": "5fe38401",
   "metadata": {},
   "outputs": [],
   "source": [
    "data_33deg = np.array([\n",
    "    [-1.0217821782178214, 0.06461538461538452],\n",
    "    [-0.9623762376237623, 0.24615384615384595],\n",
    "    [-0.7960396039603954, 0.36307692307692285],\n",
    "    [-0.2554455445544548, 0.6030769230769228],\n",
    "    [0.00594059405940639, 0.723076923076923],\n",
    "    [0.27326732673267395, 0.8307692307692307],\n",
    "    [0.5465346534653475, 0.9353846153846151],\n",
    "    [0.6831683168316838, 0.9969230769230768],\n",
    "    [0.8198019801980205, 1.006153846153846],\n",
    "    [0.8613861386138622, 1.003076923076923],\n",
    "    [0.9267326732673276, 0.9938461538461537],\n",
    "    [0.9801980198019811, 0.9323076923076921],\n",
    "    [1.0455445544554465, 0.6492307692307691],\n",
    "    [1.0990099009901, 0.2338461538461536]\n",
    "])"
   ]
  },
  {
   "cell_type": "markdown",
   "id": "c7220981",
   "metadata": {},
   "source": [
    "Let's now compute the pressure distribution with a modified newtonian flow model:"
   ]
  },
  {
   "cell_type": "code",
   "execution_count": 7,
   "id": "5b499f88",
   "metadata": {},
   "outputs": [
    {
     "data": {
      "image/png": "[encoded data removed]",
      "text/plain": [
       "<Figure size 432x288 with 1 Axes>"
      ]
     },
     "metadata": {
      "needs_background": "light"
     },
     "output_type": "display_data"
    }
   ],
   "source": [
    "ps_pt2 = modified_newtonian_pressure_ratio(Minf, theta_b, alpha=np.deg2rad(33), beta=np.deg2rad(0))\n",
    "\n",
    "plt.figure()\n",
    "plt.plot(data_33deg[:, 0], data_33deg[:, 1], 's', label=\"lab data\")\n",
    "plt.plot(s_arr / Rb, ps_pt2, label=\"Modified Newtonian theory\")\n",
    "plt.xlabel(r\"$s / R_{b}$\")\n",
    "plt.ylabel(r\"$p_{s} / p_{t2}$\")\n",
    "plt.title(r\"$M_{\\infty} = 10.18 \\qquad \\alpha = 33°$\")\n",
    "plt.legend()\n",
    "plt.show()"
   ]
  },
  {
   "cell_type": "code",
   "execution_count": null,
   "id": "5abbb72c",
   "metadata": {},
   "outputs": [],
   "source": []
  }
 ],
 "metadata": {
  "kernelspec": {
   "display_name": "Python 3 (ipykernel)",
   "language": "python",
   "name": "python3"
  },
  "language_info": {
   "codemirror_mode": {
    "name": "ipython",
    "version": 3
   },
   "file_extension": ".py",
   "mimetype": "text/x-python",
   "name": "python",
   "nbconvert_exporter": "python",
   "pygments_lexer": "ipython3",
   "version": "3.9.7"
  }
 },
 "nbformat": 4,
 "nbformat_minor": 5
}
